{
 "cells": [
  {
   "cell_type": "markdown",
   "id": "522af395-bace-446c-8b71-cb56377321da",
   "metadata": {},
   "source": [
    "# 7 FEB ASSIGNMENT"
   ]
  },
  {
   "cell_type": "markdown",
   "id": "4c4f4da1-f2d3-4c92-afa6-b8e6a34a24e2",
   "metadata": {},
   "source": [
    "# Answer-1"
   ]
  },
  {
   "cell_type": "code",
   "execution_count": 1,
   "id": "6e598718-e2a1-47a4-bfbc-62febd5c5e4c",
   "metadata": {},
   "outputs": [
    {
     "name": "stdin",
     "output_type": "stream",
     "text": [
      "Enter password 5ABcd__@fg5\n"
     ]
    },
    {
     "name": "stdout",
     "output_type": "stream",
     "text": [
      "valid password\n"
     ]
    }
   ],
   "source": [
    "n=input(\"Enter password\")\n",
    "l,u,d,s=0,0,0,0\n",
    "if len(n)>=10:\n",
    "    for i in n:\n",
    "        if i.islower():\n",
    "            l=l+1\n",
    "        if i.isupper():\n",
    "            u=u+1\n",
    "        if i.isdigit():\n",
    "            d=d+1\n",
    "        if (i=='@' or i=='!' or i==\"_\" or i=='&' or i=='$'):\n",
    "            s=s+1\n",
    "if (l>=2 and u>=2 and d>=1 and s>=3 and l+u+d+s==len(n)):\n",
    "    print(\"valid password\")\n",
    "else:\n",
    "    print(\"invalid password\")"
   ]
  },
  {
   "cell_type": "markdown",
   "id": "4ad6b737-ead0-4dbb-a4c5-0f038352b7a2",
   "metadata": {},
   "source": [
    "# Answer-2"
   ]
  },
  {
   "cell_type": "code",
   "execution_count": 1,
   "id": "599cd8b4-27b6-405e-aa6d-4b8ead6b28ba",
   "metadata": {},
   "outputs": [],
   "source": [
    "# check if string starts with a particular letter a\n",
    "n=lambda x: True if x.startswith('a') else False"
   ]
  },
  {
   "cell_type": "code",
   "execution_count": 2,
   "id": "e10b815b-4c7e-4d73-8417-33abc56d5553",
   "metadata": {},
   "outputs": [
    {
     "data": {
      "text/plain": [
       "True"
      ]
     },
     "execution_count": 2,
     "metadata": {},
     "output_type": "execute_result"
    }
   ],
   "source": [
    "n('astha')"
   ]
  },
  {
   "cell_type": "code",
   "execution_count": 3,
   "id": "93e94ded-d8d2-4e61-8aea-c68a24dc8e8e",
   "metadata": {},
   "outputs": [],
   "source": [
    "# check if the string is numeric\n",
    "n=lambda x:\"numeric\" if x.isdigit() else \"not numeric\""
   ]
  },
  {
   "cell_type": "code",
   "execution_count": 4,
   "id": "c14f9166-6bd3-4a18-83d9-c735a82335a1",
   "metadata": {},
   "outputs": [
    {
     "data": {
      "text/plain": [
       "'numeric'"
      ]
     },
     "execution_count": 4,
     "metadata": {},
     "output_type": "execute_result"
    }
   ],
   "source": [
    "n(\"345\")"
   ]
  },
  {
   "cell_type": "code",
   "execution_count": 5,
   "id": "5aaa1698-e935-4cc9-a6be-f5803adff2ca",
   "metadata": {},
   "outputs": [
    {
     "data": {
      "text/plain": [
       "[('grapes', 1000), ('mango', 99), ('orange', 80)]"
      ]
     },
     "execution_count": 5,
     "metadata": {},
     "output_type": "execute_result"
    }
   ],
   "source": [
    "# sort the list of tuples\n",
    "t=[('mango',99),('orange',80),('grapes',1000)]\n",
    "sort=lambda t:sorted(t)\n",
    "sort(t)"
   ]
  },
  {
   "cell_type": "code",
   "execution_count": 6,
   "id": "f7af8c22-274f-402f-802b-e83fa1b35575",
   "metadata": {},
   "outputs": [
    {
     "data": {
      "text/plain": [
       "[1, 4, 9, 16, 25, 36, 49, 64, 81, 100]"
      ]
     },
     "execution_count": 6,
     "metadata": {},
     "output_type": "execute_result"
    }
   ],
   "source": [
    "# find the square of numbers from 1 to 10\n",
    "l=[1,2,3,4,5,6,7,8,9,10]\n",
    "[i**2 for i in l]"
   ]
  },
  {
   "cell_type": "code",
   "execution_count": 7,
   "id": "236aaf14-42e6-4f18-a733-88374febe6bd",
   "metadata": {},
   "outputs": [
    {
     "data": {
      "text/plain": [
       "[1, 8, 27, 64, 125, 216, 343, 512, 729, 1000]"
      ]
     },
     "execution_count": 7,
     "metadata": {},
     "output_type": "execute_result"
    }
   ],
   "source": [
    "# find the cube of numbers from 1 to 10\n",
    "[i**3 for i in l]"
   ]
  },
  {
   "cell_type": "code",
   "execution_count": 8,
   "id": "1a09384d-894e-4712-b527-ac26ba84a857",
   "metadata": {},
   "outputs": [
    {
     "name": "stdin",
     "output_type": "stream",
     "text": [
      "Enter a number 34\n"
     ]
    },
    {
     "data": {
      "text/plain": [
       "'even'"
      ]
     },
     "execution_count": 8,
     "metadata": {},
     "output_type": "execute_result"
    }
   ],
   "source": [
    "# check if a given number is even\n",
    "n=int(input(\"Enter a number\"))\n",
    "check=lambda x: \"even\" if x%2==0 else \"odd\"\n",
    "check(n)"
   ]
  },
  {
   "cell_type": "code",
   "execution_count": 3,
   "id": "a189332d-2d1d-4c59-b594-838019420915",
   "metadata": {},
   "outputs": [
    {
     "data": {
      "text/plain": [
       "[1, 3, 5, 7, 9]"
      ]
     },
     "execution_count": 3,
     "metadata": {},
     "output_type": "execute_result"
    }
   ],
   "source": [
    "# filter odd numbers from the given list\n",
    "l=[1,2,3,4,5,6,7,8,9,10]\n",
    "list(filter(lambda x:x%2!=0,l))"
   ]
  },
  {
   "cell_type": "code",
   "execution_count": 4,
   "id": "a852e79c-a7fa-47b9-9a3c-3d578ea80ec0",
   "metadata": {},
   "outputs": [
    {
     "data": {
      "text/plain": [
       "[-5, -4, -3, -2, -1, 0, 1, 2, 3, 4, 5, 6]"
      ]
     },
     "execution_count": 4,
     "metadata": {},
     "output_type": "execute_result"
    }
   ],
   "source": [
    "# sort a list of integers into positive and negative integers list\n",
    "l=[1,2,3,4,5,6,-1,-2,-3,-4,-5,0]\n",
    "sort=lambda t:sorted(t)\n",
    "sort(l)"
   ]
  },
  {
   "cell_type": "code",
   "execution_count": null,
   "id": "cc42dbd3-2644-4b3e-a6d7-72039643a278",
   "metadata": {},
   "outputs": [],
   "source": []
  },
  {
   "cell_type": "code",
   "execution_count": null,
   "id": "ba8ed837-87f3-43a2-9cef-2f390d9341a2",
   "metadata": {},
   "outputs": [],
   "source": []
  }
 ],
 "metadata": {
  "kernelspec": {
   "display_name": "Python 3 (ipykernel)",
   "language": "python",
   "name": "python3"
  },
  "language_info": {
   "codemirror_mode": {
    "name": "ipython",
    "version": 3
   },
   "file_extension": ".py",
   "mimetype": "text/x-python",
   "name": "python",
   "nbconvert_exporter": "python",
   "pygments_lexer": "ipython3",
   "version": "3.10.8"
  }
 },
 "nbformat": 4,
 "nbformat_minor": 5
}
